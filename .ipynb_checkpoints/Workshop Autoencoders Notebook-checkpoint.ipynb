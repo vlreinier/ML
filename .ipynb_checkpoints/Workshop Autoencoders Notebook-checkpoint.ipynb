{
 "cells": [
  {
   "cell_type": "markdown",
   "metadata": {},
   "source": [
    "<font color='red'>Voor het maken van dit notebook is <i>Keras</i> gebruikt. Hierbij hebben we expliciet de Keras module gebruikt, niet de tensorflow-keras modules. Om deze te installeren kun je  `pip install keras` uitvoeren.</font>"
   ]
  },
  {
   "cell_type": "code",
   "execution_count": 1,
   "metadata": {},
   "outputs": [
    {
     "name": "stderr",
     "output_type": "stream",
     "text": [
      "Using TensorFlow backend.\n"
     ]
    }
   ],
   "source": [
    "# Import Modules\n",
    "import numpy as np\n",
    "from sklearn.neighbors import KNeighborsClassifier\n",
    "from keras.datasets import mnist\n",
    "from keras.layers import Dense\n",
    "from keras.models import Sequential\n",
    "import matplotlib.pyplot as plt"
   ]
  },
  {
   "cell_type": "markdown",
   "metadata": {},
   "source": [
    "# Autoencoders\n",
    "<img src='https://miro.medium.com/max/1574/1*44eDEuZBEsmG_TCAKRI3Kw@2x.png'>\n",
    "\n",
    "## Wat is een autoencoder?\n",
    "Een autoencoder is een vorm van Dimensionality Reduction. Hiervan hebben we een eerder voorbeeld gezien (PCA). Een autoencoder is een vorm van een neuraal netwerk, waarbij getraind wordt op de input van het netwerk. Het doel van een autoencoder is om de output zo gelijk mogelijk te houden aan de input, waarbij er een $n$ aantal neuronen in de \"bottleneck\" layer zitten die kleiner zijn dan het aantal neuronen in de inputlayer. Op deze manier kan, na het trainen van het netwerk, het aantal dimensies van de data worden verkleind.<br><br>\n",
    "\n",
    "Een autoencoder kan verdeeld worden in 3 onderdelen:\n",
    "- Encoder\n",
    "- Bottleneck layer\n",
    "- Decoder\n",
    "\n",
    "De Encoder zorgt voor het verkleinen van het aantal ingevoerde dimensies, de bottleneck layer bevat de hoeveelheid dimensies waar de gebruiker naartoe wil werken, de Decoder vergroot het aantal dimensies weer naar de hoeveelheid van de inputlayer, zodat de loss van input/output berekend kan worden. De encoder en decoder hoeven niet te bestaan uit 1 layer, deze kunnen opgebouwd worden uit verschillende layers. Hier wordt vaak gebruik gemaakt van het 'sandwich' model.<br><br>\n",
    "\n",
    "Om duidelijk te zien hoe een autoencoder werkt, zullen we deze techniek toepassen bij het trainen van een $k$-nearest neighbors model op de MNIST dataset."
   ]
  },
  {
   "cell_type": "markdown",
   "metadata": {},
   "source": [
    "# kNN op de MNIST Dataset\n",
    "\n",
    "Om een autoencoder te gebruiken moeten we eerst een baseline opstellen, dit doen we door een $k$-nearest neighbors model op te zetten met scikit-learn, en deze te trainen met de MNIST dataset."
   ]
  },
  {
   "cell_type": "code",
   "execution_count": 2,
   "metadata": {},
   "outputs": [
    {
     "name": "stdout",
     "output_type": "stream",
     "text": [
      "[[[0 0 0 ... 0 0 0]\n",
      "  [0 0 0 ... 0 0 0]\n",
      "  [0 0 0 ... 0 0 0]\n",
      "  ...\n",
      "  [0 0 0 ... 0 0 0]\n",
      "  [0 0 0 ... 0 0 0]\n",
      "  [0 0 0 ... 0 0 0]]\n",
      "\n",
      " [[0 0 0 ... 0 0 0]\n",
      "  [0 0 0 ... 0 0 0]\n",
      "  [0 0 0 ... 0 0 0]\n",
      "  ...\n",
      "  [0 0 0 ... 0 0 0]\n",
      "  [0 0 0 ... 0 0 0]\n",
      "  [0 0 0 ... 0 0 0]]\n",
      "\n",
      " [[0 0 0 ... 0 0 0]\n",
      "  [0 0 0 ... 0 0 0]\n",
      "  [0 0 0 ... 0 0 0]\n",
      "  ...\n",
      "  [0 0 0 ... 0 0 0]\n",
      "  [0 0 0 ... 0 0 0]\n",
      "  [0 0 0 ... 0 0 0]]]\n",
      "[5 0 4]\n"
     ]
    }
   ],
   "source": [
    "(x_train, y_train), (x_test, y_test) = mnist.load_data()\n",
    "\n",
    "print(x_train[:3])\n",
    "print(y_train[:3])"
   ]
  },
  {
   "cell_type": "markdown",
   "metadata": {},
   "source": [
    "De geïmporteerde MNIST data bevat een array met 2-dimensionale arrays van 28x28 elementen. Elk van deze punten bestaat uit een RGB waarde (0-255). Om makkelijk met de data te kunnen werken moeten we de RGB waarden normaliseren naar waarden tussen 0 en 1. "
   ]
  },
  {
   "cell_type": "code",
   "execution_count": 3,
   "metadata": {},
   "outputs": [],
   "source": [
    "x_train = x_train.astype(float)\n",
    "x_train /= 255\n",
    "\n",
    "x_test = x_test.astype(float)\n",
    "x_test /= 255"
   ]
  },
  {
   "cell_type": "markdown",
   "metadata": {},
   "source": [
    "Voor het trainen van het model is het handig om de data om te zetten naar 1x784 arrays, in plaats van 2-dimensionale 28x28 arrays."
   ]
  },
  {
   "cell_type": "code",
   "execution_count": 4,
   "metadata": {},
   "outputs": [
    {
     "name": "stdout",
     "output_type": "stream",
     "text": [
      "(6000, 784)\n",
      "(1000, 784)\n"
     ]
    }
   ],
   "source": [
    "def reshape(data, rows):\n",
    "    return np.asarray([[k for j in i for k in j] for i in data[:rows]])\n",
    "\n",
    "x_train = reshape(x_train, 6000)\n",
    "x_test = reshape(x_test, 1000)\n",
    "y_train = y_train[:6000]\n",
    "y_test = y_test[:1000]\n",
    "\n",
    "print(x_train.shape)\n",
    "print(x_test.shape)"
   ]
  },
  {
   "cell_type": "markdown",
   "metadata": {},
   "source": [
    "Met de genormaliseerde data kunnen we een baseline opstellen met $k$-nearest neighbors. Om dit model op te stellen en te trainen kunnen we gebruikmaken van <i>scikit-learn</i>. Gebruik voor het berekenen van de score de <i>.score()</i> functie van het model. TIP: maak bij het berekenen van de score gebruik van 1000 elementen uit <i>x_test</i>. Het berekenen van de score kost erg veel tijd wanneer dit over alle testdata berekend moet worden."
   ]
  },
  {
   "cell_type": "code",
   "execution_count": 5,
   "metadata": {},
   "outputs": [
    {
     "data": {
      "text/plain": [
       "0.916"
      ]
     },
     "execution_count": 5,
     "metadata": {},
     "output_type": "execute_result"
    }
   ],
   "source": [
    "#TODO: Maak een kNN algoritme\n",
    "n_neighbours = 5\n",
    "\n",
    "knn = KNeighborsClassifier(n_neighbours)\n",
    "knn.fit(x_train, y_train)\n",
    "knn.score(x_test, y_test)"
   ]
  },
  {
   "cell_type": "markdown",
   "metadata": {},
   "source": [
    "# Bouwen van een Autoencoder\n",
    "Voor het trainen van de $k$-nearest neighbors gebruiken we op dit moment alle 784 dimensies/pixels van alle afbeeldingen. Je zult al gemerkt hebben dat het berekenen van de score wat tijd in beslag neemt. Om dit omlaag te brengen kunnen we ervoor kiezen om minder dimensies/pixels te gebruiken. Om dit te bepalen kunnen we een autoencoder gebruiken<br><br>\n",
    "\n",
    "Omdat een autoencoder een vorm van een neuraal netwerk is, kunnen we <i>Keras</i> gebruiken om een model op te zetten en te trainen.<br><br>\n",
    "\n",
    "Onderstaande functie <i>display_digits()</i> is voor het uitprinten van de afbeeldingen zodat we het resultaat kunnen vergelijken van de originele afbeeldingen en de afbeeldingen wanneer ze door de autoencoder zijn gehaald."
   ]
  },
  {
   "cell_type": "code",
   "execution_count": 6,
   "metadata": {},
   "outputs": [],
   "source": [
    "def display_digits(x_test, x_decoded, n=10):\n",
    "    plt.figure(figsize=(20, 4))\n",
    "    for i in range(n):\n",
    "        # display original\n",
    "        ax = plt.subplot(2, n, i + 1)\n",
    "        plt.imshow(x_test[i].reshape(28, 28))\n",
    "        plt.gray()\n",
    "        ax.get_xaxis().set_visible(False)\n",
    "        ax.get_yaxis().set_visible(False)\n",
    "\n",
    "        # display reconstruction\n",
    "        ax = plt.subplot(2, n, i + 1 + n)\n",
    "        plt.imshow(x_decoded[i].reshape(28, 28))\n",
    "        plt.gray()\n",
    "        ax.get_xaxis().set_visible(False)\n",
    "        ax.get_yaxis().set_visible(False)\n",
    "    plt.show()"
   ]
  },
  {
   "cell_type": "markdown",
   "metadata": {},
   "source": [
    "Voor het bouwen van een neuraal netwerk kan de <i>Sequential([])</i> module van Keras worden gebruikt. Hierin dienen een aantal Dense layers te worden aangemaakt, zodat het netwerk getraind kan worden. We zullen de meest eenvoudige autoencoder opzetten, met een input layer, bottleneck layer, en een output layer. Voor de activatiefuncties kan 'relu' worden gebruikt in de bottleneck layer, en 'sigmoid' in de output layer.<br><br>"
   ]
  },
  {
   "cell_type": "code",
   "execution_count": 8,
   "metadata": {},
   "outputs": [
    {
     "name": "stdout",
     "output_type": "stream",
     "text": [
      "Model: \"sequential_1\"\n",
      "_________________________________________________________________\n",
      "Layer (type)                 Output Shape              Param #   \n",
      "=================================================================\n",
      "dense_1 (Dense)              (None, 32)                25120     \n",
      "_________________________________________________________________\n",
      "dense_2 (Dense)              (None, 784)               25872     \n",
      "=================================================================\n",
      "Total params: 50,992\n",
      "Trainable params: 50,992\n",
      "Non-trainable params: 0\n",
      "_________________________________________________________________\n"
     ]
    }
   ],
   "source": [
    "encoding_dim = 32 #op deze manier reduceren we de dimensies bij een factor van 24.5 (784/24.5=32)\n",
    "\n",
    "#TODO: aanmaken van autoencoder model door middel van Sequential en Dense layers\n",
    "autoencoder = Sequential()\n",
    "autoencoder.add(Dense(encoding_dim, input_shape=(x_train.shape[1],), activation='relu'))\n",
    "autoencoder.add(Dense(x_train.shape[1], activation='sigmoid'))\n",
    "autoencoder.summary()"
   ]
  },
  {
   "cell_type": "markdown",
   "metadata": {},
   "source": [
    "Om de autoencoder te trainen dient het model gecompileerd te worden met <i>compile()</i>. Voor de optimizer kan voor 'adadelta' gekozen worden. Omdat we gebruikmaken van data tussen 0 en 1 gebruiken we 'binary_crossentropy' als loss-functie. Wanneer je data hebt dat niet tussen 0 en 1 ligt, kun je gebruikmaken van Mean Squared Error."
   ]
  },
  {
   "cell_type": "code",
   "execution_count": 9,
   "metadata": {},
   "outputs": [
    {
     "name": "stdout",
     "output_type": "stream",
     "text": [
      "Train on 6000 samples, validate on 1000 samples\n",
      "Epoch 1/50\n",
      "6000/6000 [==============================] - 1s 149us/step - loss: 0.6802 - val_loss: 0.6493\n",
      "Epoch 2/50\n",
      "6000/6000 [==============================] - 1s 93us/step - loss: 0.5521 - val_loss: 0.4221\n",
      "Epoch 3/50\n",
      "6000/6000 [==============================] - 1s 95us/step - loss: 0.3485 - val_loss: 0.3090\n",
      "Epoch 4/50\n",
      "6000/6000 [==============================] - 1s 94us/step - loss: 0.2965 - val_loss: 0.2880\n",
      "Epoch 5/50\n",
      "6000/6000 [==============================] - 1s 98us/step - loss: 0.2849 - val_loss: 0.2804\n",
      "Epoch 6/50\n",
      "6000/6000 [==============================] - 1s 89us/step - loss: 0.2800 - val_loss: 0.2764\n",
      "Epoch 7/50\n",
      "6000/6000 [==============================] - 1s 95us/step - loss: 0.2770 - val_loss: 0.2731\n",
      "Epoch 8/50\n",
      "6000/6000 [==============================] - 1s 91us/step - loss: 0.2749 - val_loss: 0.2711\n",
      "Epoch 9/50\n",
      "6000/6000 [==============================] - 1s 85us/step - loss: 0.2731 - val_loss: 0.2694\n",
      "Epoch 10/50\n",
      "6000/6000 [==============================] - 1s 103us/step - loss: 0.2715 - val_loss: 0.2677\n",
      "Epoch 11/50\n",
      "6000/6000 [==============================] - 1s 102us/step - loss: 0.2700 - val_loss: 0.2661\n",
      "Epoch 12/50\n",
      "6000/6000 [==============================] - 1s 92us/step - loss: 0.2684 - val_loss: 0.2649\n",
      "Epoch 13/50\n",
      "6000/6000 [==============================] - 1s 90us/step - loss: 0.2667 - val_loss: 0.2630\n",
      "Epoch 14/50\n",
      "6000/6000 [==============================] - 1s 98us/step - loss: 0.2650 - val_loss: 0.2610\n",
      "Epoch 15/50\n",
      "6000/6000 [==============================] - 1s 99us/step - loss: 0.2630 - val_loss: 0.2594\n",
      "Epoch 16/50\n",
      "6000/6000 [==============================] - 1s 95us/step - loss: 0.2609 - val_loss: 0.2574\n",
      "Epoch 17/50\n",
      "6000/6000 [==============================] - 1s 93us/step - loss: 0.2587 - val_loss: 0.2551\n",
      "Epoch 18/50\n",
      "6000/6000 [==============================] - 1s 94us/step - loss: 0.2562 - val_loss: 0.2529\n",
      "Epoch 19/50\n",
      "6000/6000 [==============================] - 1s 93us/step - loss: 0.2537 - val_loss: 0.2506\n",
      "Epoch 20/50\n",
      "6000/6000 [==============================] - 1s 103us/step - loss: 0.2510 - val_loss: 0.2483\n",
      "Epoch 21/50\n",
      "6000/6000 [==============================] - 1s 91us/step - loss: 0.2483 - val_loss: 0.2460\n",
      "Epoch 22/50\n",
      "6000/6000 [==============================] - 1s 91us/step - loss: 0.2456 - val_loss: 0.2435\n",
      "Epoch 23/50\n",
      "6000/6000 [==============================] - 1s 88us/step - loss: 0.2429 - val_loss: 0.2410\n",
      "Epoch 24/50\n",
      "6000/6000 [==============================] - 1s 95us/step - loss: 0.2403 - val_loss: 0.2390\n",
      "Epoch 25/50\n",
      "6000/6000 [==============================] - 1s 90us/step - loss: 0.2378 - val_loss: 0.2366\n",
      "Epoch 26/50\n",
      "6000/6000 [==============================] - 1s 93us/step - loss: 0.2354 - val_loss: 0.2349\n",
      "Epoch 27/50\n",
      "6000/6000 [==============================] - 1s 91us/step - loss: 0.2331 - val_loss: 0.2326\n",
      "Epoch 28/50\n",
      "6000/6000 [==============================] - 1s 92us/step - loss: 0.2308 - val_loss: 0.2305\n",
      "Epoch 29/50\n",
      "6000/6000 [==============================] - 1s 91us/step - loss: 0.2286 - val_loss: 0.2288\n",
      "Epoch 30/50\n",
      "6000/6000 [==============================] - 1s 93us/step - loss: 0.2265 - val_loss: 0.2267\n",
      "Epoch 31/50\n",
      "6000/6000 [==============================] - 1s 96us/step - loss: 0.2244 - val_loss: 0.2248\n",
      "Epoch 32/50\n",
      "6000/6000 [==============================] - 1s 102us/step - loss: 0.2224 - val_loss: 0.2232\n",
      "Epoch 33/50\n",
      "6000/6000 [==============================] - 1s 99us/step - loss: 0.2205 - val_loss: 0.2214\n",
      "Epoch 34/50\n",
      "6000/6000 [==============================] - 1s 85us/step - loss: 0.2186 - val_loss: 0.2195\n",
      "Epoch 35/50\n",
      "6000/6000 [==============================] - 1s 90us/step - loss: 0.2167 - val_loss: 0.2179\n",
      "Epoch 36/50\n",
      "6000/6000 [==============================] - 1s 105us/step - loss: 0.2149 - val_loss: 0.2164\n",
      "Epoch 37/50\n",
      "6000/6000 [==============================] - 1s 87us/step - loss: 0.2132 - val_loss: 0.2147\n",
      "Epoch 38/50\n",
      "6000/6000 [==============================] - 1s 106us/step - loss: 0.2115 - val_loss: 0.2132\n",
      "Epoch 39/50\n",
      "6000/6000 [==============================] - 1s 97us/step - loss: 0.2098 - val_loss: 0.2117\n",
      "Epoch 40/50\n",
      "6000/6000 [==============================] - 1s 97us/step - loss: 0.2083 - val_loss: 0.2101\n",
      "Epoch 41/50\n",
      "6000/6000 [==============================] - 1s 110us/step - loss: 0.2068 - val_loss: 0.2089\n",
      "Epoch 42/50\n",
      "6000/6000 [==============================] - 1s 92us/step - loss: 0.2053 - val_loss: 0.2076\n",
      "Epoch 43/50\n",
      "6000/6000 [==============================] - 1s 88us/step - loss: 0.2039 - val_loss: 0.2063\n",
      "Epoch 44/50\n",
      "6000/6000 [==============================] - 1s 89us/step - loss: 0.2025 - val_loss: 0.2050\n",
      "Epoch 45/50\n",
      "6000/6000 [==============================] - 1s 86us/step - loss: 0.2012 - val_loss: 0.2036\n",
      "Epoch 46/50\n",
      "6000/6000 [==============================] - 1s 90us/step - loss: 0.1999 - val_loss: 0.2027\n",
      "Epoch 47/50\n",
      "6000/6000 [==============================] - 1s 90us/step - loss: 0.1986 - val_loss: 0.2013\n",
      "Epoch 48/50\n",
      "6000/6000 [==============================] - 1s 89us/step - loss: 0.1974 - val_loss: 0.2004\n",
      "Epoch 49/50\n",
      "6000/6000 [==============================] - 1s 90us/step - loss: 0.1963 - val_loss: 0.1992\n",
      "Epoch 50/50\n",
      "6000/6000 [==============================] - 1s 88us/step - loss: 0.1951 - val_loss: 0.1983\n"
     ]
    },
    {
     "data": {
      "text/plain": [
       "<keras.callbacks.callbacks.History at 0x22380545fc8>"
      ]
     },
     "execution_count": 9,
     "metadata": {},
     "output_type": "execute_result"
    }
   ],
   "source": [
    "autoencoder.compile(optimizer='adadelta', loss='binary_crossentropy')\n",
    "autoencoder.fit(x_train, x_train, epochs=50, batch_size=256, shuffle=True, validation_data=(x_test, x_test))"
   ]
  },
  {
   "cell_type": "markdown",
   "metadata": {},
   "source": [
    "Om te testen of de autoencoder dichtbij de de originele input zit, kan gebruik worden gemaakt van de <i>.predict()</i> functie van de autoencoder. Als deze functie gebruikt wordt om x_test te voorspellen, kan deze data samen met x_test zelf in de hierboven gedefinieerde <i>display_digits()</i> worden gebruikt om een aantal (10) originele x_test en voorspelde x_test afbeeldingen te printen."
   ]
  },
  {
   "cell_type": "code",
   "execution_count": 14,
   "metadata": {},
   "outputs": [
    {
     "data": {
      "image/png": "[encoded data removed]",
      "text/plain": [
       "<Figure size 1440x288 with 20 Axes>"
      ]
     },
     "metadata": {
      "needs_background": "light"
     },
     "output_type": "display_data"
    }
   ],
   "source": [
    "x_decoded = autoencoder.predict(x_test)\n",
    "display_digits(x_test, x_decoded)"
   ]
  },
  {
   "cell_type": "markdown",
   "metadata": {},
   "source": [
    "Als de voorspelde afbeeldingen van de autoencoder lijken op de originele afbeeldingen, kunnen we het decoder gedeelte van de autoencoder weglaten, deze is alleen bedoeld voor het trainen. Voor het daadwerkelijk reduceren van de data hebben we alleen de encoder nodig. Omdat onze autoencoder maar 1 layer heeft als encoder, kunnen we layer[0] gebruiken uit ons autoencoder object"
   ]
  },
  {
   "cell_type": "code",
   "execution_count": 17,
   "metadata": {},
   "outputs": [],
   "source": [
    "#TODO: maak een encoder Sequential([]) model door de eerste layer te nemen uit het autoencoder model\n",
    "model = Sequential()\n",
    "model.add(autoencoder.layers[0])"
   ]
  },
  {
   "cell_type": "markdown",
   "metadata": {},
   "source": [
    "# kNN Met gereduceerde dimensies\n",
    "Omdat we nu een getrainde encoder hebben, kunnen we deze gebruiken om de dimensies van x_train, x_test te reduceren, zodat we de gereduceerde data te gebruiken om een $k$-nearest neighbors te trainen. Gebruik hier weer hetzelfde aantal neighbors en bereken de score van het model ook weer met 1000 waarden uit de testdata."
   ]
  },
  {
   "cell_type": "code",
   "execution_count": 18,
   "metadata": {},
   "outputs": [],
   "source": [
    "#TODO: predict x_train_encoded en x_test_encoded met behulp van de encoder\n",
    "x_train_encoded = model.predict(x_train)\n",
    "x_test_encoded = model.predict(x_test)"
   ]
  },
  {
   "cell_type": "code",
   "execution_count": 22,
   "metadata": {},
   "outputs": [
    {
     "data": {
      "text/plain": [
       "0.859"
      ]
     },
     "execution_count": 22,
     "metadata": {},
     "output_type": "execute_result"
    }
   ],
   "source": [
    "#TODO: train een kNN met x_train_encoded en x_test_encoded met hetzelfde aantal neighbors als in de baseline\n",
    "n_neighbours = 5\n",
    "knn = KNeighborsClassifier(n_neighbours)\n",
    "knn.fit(x_train_encoded, y_train)\n",
    "knn.score(x_test_encoded, y_test)"
   ]
  },
  {
   "cell_type": "markdown",
   "metadata": {},
   "source": [
    "# Opdracht: Deep Autoencoder\n",
    "Probeer met deze tools een nieuwe autoencoder te maken, door gebruik te maken van meerdere layers in het encoder en decoder gedeelte. Dit wordt een Deep Autoencoder genoemd. Test de werking van je autoencoder door met behulp van een encoder de data weer in een $k$-nearest neighbors te stoppen. Denk bij het maken van meerdere layers aan het 'sandwich' model."
   ]
  },
  {
   "cell_type": "code",
   "execution_count": 23,
   "metadata": {},
   "outputs": [
    {
     "name": "stdout",
     "output_type": "stream",
     "text": [
      "Model: \"sequential_1\"\n",
      "_________________________________________________________________\n",
      "Layer (type)                 Output Shape              Param #   \n",
      "=================================================================\n",
      "dense_1 (Dense)              (None, 32)                25120     \n",
      "_________________________________________________________________\n",
      "dense_2 (Dense)              (None, 784)               25872     \n",
      "_________________________________________________________________\n",
      "dense_3 (Dense)              (None, 128)               100480    \n",
      "_________________________________________________________________\n",
      "dense_4 (Dense)              (None, 64)                8256      \n",
      "_________________________________________________________________\n",
      "dense_5 (Dense)              (None, 32)                2080      \n",
      "_________________________________________________________________\n",
      "dense_6 (Dense)              (None, 64)                2112      \n",
      "_________________________________________________________________\n",
      "dense_7 (Dense)              (None, 128)               8320      \n",
      "_________________________________________________________________\n",
      "dense_8 (Dense)              (None, 784)               101136    \n",
      "=================================================================\n",
      "Total params: 50,992\n",
      "Trainable params: 50,992\n",
      "Non-trainable params: 0\n",
      "_________________________________________________________________\n"
     ]
    },
    {
     "name": "stderr",
     "output_type": "stream",
     "text": [
      "C:\\ProgramData\\Anaconda3\\lib\\site-packages\\keras\\engine\\training.py:297: UserWarning: Discrepancy between trainable weights and collected trainable weights, did you set `model.trainable` without calling `model.compile` after ?\n",
      "  'Discrepancy between trainable weights and collected trainable'\n"
     ]
    }
   ],
   "source": [
    "encoding_dim = 32\n",
    "\n",
    "autoencoder.add(Dense(4 * encoding_dim, input_shape=(x_train.shape[1],), activation='relu'))\n",
    "autoencoder.add(Dense(2 * encoding_dim, activation='relu'))\n",
    "autoencoder.add(Dense(encoding_dim, activation='relu'))\n",
    "\n",
    "autoencoder.add(Dense(2 * encoding_dim, activation='relu'))\n",
    "autoencoder.add(Dense(4 * encoding_dim, activation='relu'))\n",
    "autoencoder.add(Dense(x_train.shape[1], activation='sigmoid'))\n",
    "\n",
    "autoencoder.summary()"
   ]
  },
  {
   "cell_type": "code",
   "execution_count": 24,
   "metadata": {},
   "outputs": [
    {
     "name": "stdout",
     "output_type": "stream",
     "text": [
      "Train on 6000 samples, validate on 1000 samples\n",
      "Epoch 1/50\n",
      "6000/6000 [==============================] - 1s 168us/step - loss: 0.6887 - val_loss: 0.6788\n",
      "Epoch 2/50\n",
      "6000/6000 [==============================] - 1s 108us/step - loss: 0.4991 - val_loss: 0.2666\n",
      "Epoch 3/50\n",
      "6000/6000 [==============================] - 1s 106us/step - loss: 0.2674 - val_loss: 0.2582\n",
      "Epoch 4/50\n",
      "6000/6000 [==============================] - 1s 114us/step - loss: 0.2635 - val_loss: 0.2564\n",
      "Epoch 5/50\n",
      "6000/6000 [==============================] - 1s 149us/step - loss: 0.2617 - val_loss: 0.2560\n",
      "Epoch 6/50\n",
      "6000/6000 [==============================] - 1s 114us/step - loss: 0.2600 - val_loss: 0.2538\n",
      "Epoch 7/50\n",
      "6000/6000 [==============================] - 1s 103us/step - loss: 0.2588 - val_loss: 0.2516\n",
      "Epoch 8/50\n",
      "6000/6000 [==============================] - 1s 105us/step - loss: 0.2580 - val_loss: 0.2525\n",
      "Epoch 9/50\n",
      "6000/6000 [==============================] - 1s 99us/step - loss: 0.2572 - val_loss: 0.2519\n",
      "Epoch 10/50\n",
      "6000/6000 [==============================] - 1s 107us/step - loss: 0.2562 - val_loss: 0.2511\n",
      "Epoch 11/50\n",
      "6000/6000 [==============================] - 1s 131us/step - loss: 0.2555 - val_loss: 0.2509\n",
      "Epoch 12/50\n",
      "6000/6000 [==============================] - 1s 119us/step - loss: 0.2548 - val_loss: 0.2490\n",
      "Epoch 13/50\n",
      "6000/6000 [==============================] - 1s 113us/step - loss: 0.2541 - val_loss: 0.2471\n",
      "Epoch 14/50\n",
      "6000/6000 [==============================] - 1s 112us/step - loss: 0.2529 - val_loss: 0.2462\n",
      "Epoch 15/50\n",
      "6000/6000 [==============================] - 1s 118us/step - loss: 0.2516 - val_loss: 0.2476\n",
      "Epoch 16/50\n",
      "6000/6000 [==============================] - 1s 105us/step - loss: 0.2500 - val_loss: 0.2447\n",
      "Epoch 17/50\n",
      "6000/6000 [==============================] - 1s 105us/step - loss: 0.2484 - val_loss: 0.2412\n",
      "Epoch 18/50\n",
      "6000/6000 [==============================] - 1s 104us/step - loss: 0.2479 - val_loss: 0.2402\n",
      "Epoch 19/50\n",
      "6000/6000 [==============================] - 1s 110us/step - loss: 0.2461 - val_loss: 0.2412\n",
      "Epoch 20/50\n",
      "6000/6000 [==============================] - 1s 126us/step - loss: 0.2455 - val_loss: 0.2384\n",
      "Epoch 21/50\n",
      "6000/6000 [==============================] - 1s 118us/step - loss: 0.2432 - val_loss: 0.2400\n",
      "Epoch 22/50\n",
      "6000/6000 [==============================] - 1s 114us/step - loss: 0.2410 - val_loss: 0.2355\n",
      "Epoch 23/50\n",
      "6000/6000 [==============================] - 1s 116us/step - loss: 0.2389 - val_loss: 0.2323\n",
      "Epoch 24/50\n",
      "6000/6000 [==============================] - 1s 108us/step - loss: 0.2359 - val_loss: 0.2322\n",
      "Epoch 25/50\n",
      "6000/6000 [==============================] - 1s 103us/step - loss: 0.2344 - val_loss: 0.2293\n",
      "Epoch 26/50\n",
      "6000/6000 [==============================] - 1s 103us/step - loss: 0.2321 - val_loss: 0.2276\n",
      "Epoch 27/50\n",
      "6000/6000 [==============================] - 1s 104us/step - loss: 0.2301 - val_loss: 0.2265\n",
      "Epoch 28/50\n",
      "6000/6000 [==============================] - 1s 106us/step - loss: 0.2289 - val_loss: 0.2224\n",
      "Epoch 29/50\n",
      "6000/6000 [==============================] - 1s 103us/step - loss: 0.2270 - val_loss: 0.2232\n",
      "Epoch 30/50\n",
      "6000/6000 [==============================] - 1s 112us/step - loss: 0.2256 - val_loss: 0.2207\n",
      "Epoch 31/50\n",
      "6000/6000 [==============================] - 1s 112us/step - loss: 0.2229 - val_loss: 0.2225\n",
      "Epoch 32/50\n",
      "6000/6000 [==============================] - 1s 105us/step - loss: 0.2213 - val_loss: 0.2174\n",
      "Epoch 33/50\n",
      "6000/6000 [==============================] - 1s 108us/step - loss: 0.2190 - val_loss: 0.2153\n",
      "Epoch 34/50\n",
      "6000/6000 [==============================] - 1s 105us/step - loss: 0.2174 - val_loss: 0.2158\n",
      "Epoch 35/50\n",
      "6000/6000 [==============================] - 1s 108us/step - loss: 0.2161 - val_loss: 0.2126\n",
      "Epoch 36/50\n",
      "6000/6000 [==============================] - 1s 111us/step - loss: 0.2144 - val_loss: 0.2112\n",
      "Epoch 37/50\n",
      "6000/6000 [==============================] - 1s 106us/step - loss: 0.2138 - val_loss: 0.2093\n",
      "Epoch 38/50\n",
      "6000/6000 [==============================] - 1s 127us/step - loss: 0.2128 - val_loss: 0.2080\n",
      "Epoch 39/50\n",
      "6000/6000 [==============================] - 1s 123us/step - loss: 0.2115 - val_loss: 0.2097\n",
      "Epoch 40/50\n",
      "6000/6000 [==============================] - 1s 115us/step - loss: 0.2098 - val_loss: 0.2099\n",
      "Epoch 41/50\n",
      "6000/6000 [==============================] - 1s 117us/step - loss: 0.2088 - val_loss: 0.2060\n",
      "Epoch 42/50\n",
      "6000/6000 [==============================] - 1s 111us/step - loss: 0.2075 - val_loss: 0.2041\n",
      "Epoch 43/50\n",
      "6000/6000 [==============================] - 1s 123us/step - loss: 0.2054 - val_loss: 0.2037\n",
      "Epoch 44/50\n",
      "6000/6000 [==============================] - 1s 116us/step - loss: 0.2041 - val_loss: 0.2038\n",
      "Epoch 45/50\n",
      "6000/6000 [==============================] - 1s 111us/step - loss: 0.2023 - val_loss: 0.2046\n",
      "Epoch 46/50\n",
      "6000/6000 [==============================] - 1s 116us/step - loss: 0.2017 - val_loss: 0.2002\n",
      "Epoch 47/50\n",
      "6000/6000 [==============================] - 1s 119us/step - loss: 0.1998 - val_loss: 0.1994\n",
      "Epoch 48/50\n",
      "6000/6000 [==============================] - 1s 113us/step - loss: 0.1985 - val_loss: 0.1994\n",
      "Epoch 49/50\n",
      "6000/6000 [==============================] - 1s 127us/step - loss: 0.1982 - val_loss: 0.1993\n",
      "Epoch 50/50\n",
      "6000/6000 [==============================] - 1s 118us/step - loss: 0.1965 - val_loss: 0.1955\n"
     ]
    },
    {
     "data": {
      "text/plain": [
       "<keras.callbacks.callbacks.History at 0x223821c12c8>"
      ]
     },
     "execution_count": 24,
     "metadata": {},
     "output_type": "execute_result"
    }
   ],
   "source": [
    "autoencoder.compile(optimizer='adadelta', loss='binary_crossentropy')\n",
    "autoencoder.fit(x_train, x_train, epochs=50, batch_size=256, shuffle=True, validation_data=(x_test, x_test))"
   ]
  },
  {
   "cell_type": "code",
   "execution_count": 25,
   "metadata": {},
   "outputs": [
    {
     "data": {
      "text/plain": [
       "0.712"
      ]
     },
     "execution_count": 25,
     "metadata": {},
     "output_type": "execute_result"
    }
   ],
   "source": [
    "x_train_encoded = autoencoder.predict(x_train)\n",
    "x_test_encoded = autoencoder.predict(x_test)\n",
    "\n",
    "n_neighbours = 5\n",
    "knn = KNeighborsClassifier(n_neighbours)\n",
    "knn.fit(x_train_encoded, y_train)\n",
    "knn.score(x_test_encoded, y_test)"
   ]
  },
  {
   "cell_type": "markdown",
   "metadata": {},
   "source": [
    "### Bronnen\n",
    "https://blog.keras.io/building-autoencoders-in-keras.html<br>\n",
    "https://keras.io/models/sequential/<br>\n",
    "https://scikit-learn.org/stable/modules/generated/sklearn.neighbors.KNeighborsClassifier.html<br>\n",
    "https://towardsdatascience.com/applied-deep-learning-part-3-autoencoders-1c083af4d798<br>\n",
    "https://www.youtube.com/watch?v=H1AllrJ-_30<br>\n",
    "https://www.researchgate.net/post/Should_the_output_function_for_outer_layer_and_activation_function_of_hidden_layer_in_auto_encoder_be_same<br>"
   ]
  }
 ],
 "metadata": {
  "kernelspec": {
   "display_name": "Python 3",
   "language": "python",
   "name": "python3"
  },
  "language_info": {
   "codemirror_mode": {
    "name": "ipython",
    "version": 3
   },
   "file_extension": ".py",
   "mimetype": "text/x-python",
   "name": "python",
   "nbconvert_exporter": "python",
   "pygments_lexer": "ipython3",
   "version": "3.7.4"
  }
 },
 "nbformat": 4,
 "nbformat_minor": 4
}
